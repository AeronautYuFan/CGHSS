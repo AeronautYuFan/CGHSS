{
 "cells": [
  {
   "cell_type": "code",
   "execution_count": 1,
   "id": "6ffce294",
   "metadata": {},
   "outputs": [
    {
     "ename": "ModuleNotFoundError",
     "evalue": "No module named 'aflow'",
     "output_type": "error",
     "traceback": [
      "\u001b[1;31m---------------------------------------------------------------------------\u001b[0m",
      "\u001b[1;31mModuleNotFoundError\u001b[0m                       Traceback (most recent call last)",
      "Cell \u001b[1;32mIn[1], line 1\u001b[0m\n\u001b[1;32m----> 1\u001b[0m \u001b[38;5;28;01mfrom\u001b[39;00m \u001b[38;5;21;01maflow\u001b[39;00m \u001b[38;5;28;01mimport\u001b[39;00m aflow\n\u001b[0;32m      2\u001b[0m flow \u001b[38;5;241m=\u001b[39m aflow(\u001b[38;5;124m'\u001b[39m\u001b[38;5;124m~/Downloads/a.csv\u001b[39m\u001b[38;5;124m'\u001b[39m)\n\u001b[0;32m      3\u001b[0m flow\u001b[38;5;241m.\u001b[39mrender_flow(\u001b[38;5;124m'\u001b[39m\u001b[38;5;124mNatural Disaster\u001b[39m\u001b[38;5;124m'\u001b[39m)\n",
      "\u001b[1;31mModuleNotFoundError\u001b[0m: No module named 'aflow'"
     ]
    }
   ],
   "source": [
    "from aflow import aflow\n",
    "flow = aflow('~/Downloads/a.csv')\n",
    "flow.render_flow('Natural Disaster')\n",
    "flow.save_flow('natural_disaster_flow_chart.jpeg')"
   ]
  },
  {
   "cell_type": "code",
   "execution_count": null,
   "id": "564ba922",
   "metadata": {},
   "outputs": [],
   "source": []
  }
 ],
 "metadata": {
  "kernelspec": {
   "display_name": "Python 3",
   "language": "python",
   "name": "python3"
  },
  "language_info": {
   "codemirror_mode": {
    "name": "ipython",
    "version": 3
   },
   "file_extension": ".py",
   "mimetype": "text/x-python",
   "name": "python",
   "nbconvert_exporter": "python",
   "pygments_lexer": "ipython3",
   "version": "3.12.7"
  }
 },
 "nbformat": 4,
 "nbformat_minor": 5
}
